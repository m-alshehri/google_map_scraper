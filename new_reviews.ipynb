{
 "cells": [
  {
   "cell_type": "code",
   "execution_count": 1,
   "id": "4b29bcfb",
   "metadata": {},
   "outputs": [],
   "source": [
    "from selenium import webdriver\n",
    "from selenium.webdriver.common.by import By\n",
    "from selenium.webdriver.common.action_chains import ActionChains\n",
    "import time\n",
    "import csv"
   ]
  },
  {
   "cell_type": "code",
   "execution_count": 2,
   "id": "80ae4171",
   "metadata": {},
   "outputs": [
    {
     "name": "stdout",
     "output_type": "stream",
     "text": [
      "Enter the link please ! https://goo.gl/maps/1PXmMzKbkfdM5aih7\n",
      "Enter the number you want100\n"
     ]
    }
   ],
   "source": [
    "file=open('reviews.csv','w',encoding='utf-8')\n",
    "csv_writer=csv.writer(file)\n",
    "csv_writer.writerow(['Name','review','comment','reviews number','review date','likes number'])\n",
    "link=input('Enter the link please ! ')\n",
    "number=int(input('Enter the number you want'))\n",
    "driver=webdriver.Chrome()\n",
    "driver.get(link)\n",
    "action=ActionChains(driver)\n",
    "more_comments=driver.find_elements(By.CLASS_NAME,'M77dve')\n",
    "for i in more_comments:\n",
    "    try:\n",
    "        text=i.get_attribute('textContent')\n",
    "        if 'تعليقات' in text or 'reviews' in text:\n",
    "            driver.execute_script(\"window.scrollTo(0, document.body.scrollHeight);\")\n",
    "            action.move_to_element(i).click().perform()\n",
    "    except:\n",
    "        pass\n",
    "time.sleep(5)\n",
    "while True:\n",
    "    try:\n",
    "        end=driver.find_element(By.CLASS_NAME,'qjESne')\n",
    "        action.move_to_element(end).perform()\n",
    "        time.sleep(5)\n",
    "        container=driver.find_elements(By.CLASS_NAME,'jftiEf')\n",
    "        if len(container)==number:\n",
    "            break\n",
    "    except:\n",
    "        break\n",
    "container=driver.find_elements(By.CLASS_NAME,'jftiEf')\n",
    "for elemnt in container:\n",
    "    more_buttons=elemnt.find_elements(By.TAG_NAME,'button')\n",
    "    for b in more_buttons:\n",
    "        if 'More' in  b.get_attribute('textContent') or 'مزيد' in b.get_attribute('textContent'):\n",
    "            b.click()\n",
    "            time.sleep(5)\n",
    "    name=elemnt.find_element(\n",
    "        By.CLASS_NAME,'d4r55').get_attribute('textContent').replace('\\u202c\\u200f','').replace('\\u202a','').strip()\n",
    "    comment=elemnt.find_element(\n",
    "        By.CLASS_NAME,'wiI7pd').get_attribute('textContent').replace('\\n',' ')\n",
    "    review=elemnt.find_element(\n",
    "        By.CLASS_NAME,'kvMYJc').get_attribute('aria-label').replace('\\n',' ').strip()\n",
    "    n_reviews=elemnt.find_element(\n",
    "        By.CLASS_NAME,'RfnDt').find_elements(By.TAG_NAME,'span')[-1].get_attribute('textContent').replace('· ',' ').strip()\n",
    "    post_date=elemnt.find_element(\n",
    "        By.CLASS_NAME,'rsqaWe').get_attribute('textContent').replace('\\n',' ')\n",
    "    likes=elemnt.find_element(\n",
    "        By.CLASS_NAME,'GBkF3d').get_attribute('textContent').replace('\\n',' ').replace('Like','').strip()\n",
    "    csv_writer.writerow([name,review,comment,n_reviews,post_date,likes])\n",
    "\n",
    "file.close()\n",
    "driver.close()"
   ]
  },
  {
   "cell_type": "code",
   "execution_count": null,
   "id": "ab37a8b7",
   "metadata": {},
   "outputs": [],
   "source": []
  }
 ],
 "metadata": {
  "kernelspec": {
   "display_name": "Python 3 (ipykernel)",
   "language": "python",
   "name": "python3"
  },
  "language_info": {
   "codemirror_mode": {
    "name": "ipython",
    "version": 3
   },
   "file_extension": ".py",
   "mimetype": "text/x-python",
   "name": "python",
   "nbconvert_exporter": "python",
   "pygments_lexer": "ipython3",
   "version": "3.9.13"
  }
 },
 "nbformat": 4,
 "nbformat_minor": 5
}
